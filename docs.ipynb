{
 "cells": [
  {
   "cell_type": "markdown",
   "metadata": {},
   "source": [
    "## **Sample Input Output for Large Language Models**\n",
    "### Sample Input\n",
    "```python\n",
    "\n",
    "``` \n",
    "### Sample Prompt\n",
    "```python\n",
    "\n",
    "```\n",
    "### Sample Output\n",
    "```python\n",
    "\n",
    "```"
   ]
  },
  {
   "cell_type": "markdown",
   "metadata": {},
   "source": [
    "## **Sample Input Output for Embeddings Models**\n",
    "### Sample Input\n",
    "```python\n",
    "\"Can you make me a quote for 10 Starter Licences?\"\n",
    "``` \n",
    "### Sample Output\n",
    "```python\n",
    "[\n",
    "  0.0123, -0.0456, 0.0789, 0.1023, -0.0567, ..., 0.0345\n",
    "]\n",
    "```"
   ]
  }
 ],
 "metadata": {
  "language_info": {
   "name": "python"
  }
 },
 "nbformat": 4,
 "nbformat_minor": 2
}
