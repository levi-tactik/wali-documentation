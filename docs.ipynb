{
 "cells": [
  {
   "cell_type": "markdown",
   "metadata": {},
   "source": [
    "## **Sample Input Output for Large Language Models**\n",
    "### Sample Input\n",
    "```python\n",
    "\n",
    "``` \n",
    "### Sample Prompt to LLM\n",
    "```python\n",
    "\n",
    "```\n",
    "### Sample Output\n",
    "```python\n",
    "\n",
    "```"
   ]
  },
  {
   "cell_type": "markdown",
   "metadata": {},
   "source": [
    "## **Sample Input Output for Embeddings Models**\n",
    "### Sample Input\n",
    "```python\n",
    "\"Can you make me a quote for 10 Starter Licences?\"\n",
    "``` \n",
    "### Sample Output\n",
    "```python\n",
    "[\n",
    "  0.0123, -0.0456, 0.0789, 0.1023, -0.0567, ..., 0.0345\n",
    "]\n",
    "```"
   ]
  },
  {
   "cell_type": "markdown",
   "metadata": {},
   "source": [
    "## **Sample Step-by-Step Process for Vector Database Training**\n",
    "### Sample Products Table Data\n",
    "| id  | name            | category | description                | price | tags                |\n",
    "| --- | --------------- | -------- | -------------------------- | ----- | ------------------- |\n",
    "| 1   | Starter License | Software | Basic license for one user | 100.0 | starter, basic      |\n",
    "| 2   | Pro License     | Software | Advanced license for teams | 250.0 | pro, advanced, team |\n",
    "| 3   | Enterprise Plan | Software | Full suite for enterprises | 500.0 | enterprise, full    |\n",
    "\n",
    "## Consolidated Columns Result\n",
    "Before generating embeddings, relevant text-based columns are combined into a single field:\n",
    "| id  | consolidated_text                                                                                            |\n",
    "| --- | ------------------------------------------------------------------------------------------------------------ |\n",
    "| 1   | \"Name: Starter License, Category: Software, Description: Basic license for one user, Tags: starter, basic\"   |\n",
    "| 2   | \"Name: Pro License, Category: Software, Description: Advanced license for teams, Tags: pro, advanced, team\"  |\n",
    "| 3   | \"Name: Enterprise Plan, Category: Software, Description: Full suite for enterprises, Tags: enterprise, full\" |\n",
    "\n",
    "## Sample Embeddings Table Data\n",
    "After generating embeddings, the results are stored in a **PostgreSQL** table with a `vector` column (assuming **pgvector** is used):\n",
    "| id  | product_id | embedding (vector representation) |\n",
    "| --- | ---------- | --------------------------------- |\n",
    "| 1   | 1          | `[0.0123, -0.0456, 0.0789, ...]`  |\n",
    "| 2   | 2          | `[0.0987, -0.0123, 0.0567, ...]`  |\n",
    "| 3   | 3          | `[0.0234, 0.0781, -0.0452, ...]`  |"
   ]
  }
 ],
 "metadata": {
  "language_info": {
   "name": "python"
  }
 },
 "nbformat": 4,
 "nbformat_minor": 2
}
